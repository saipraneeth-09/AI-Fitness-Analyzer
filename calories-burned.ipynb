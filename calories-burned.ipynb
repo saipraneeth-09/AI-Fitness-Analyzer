{
 "cells": [
  {
   "cell_type": "code",
   "execution_count": 1,
   "metadata": {},
   "outputs": [],
   "source": [
    "import pandas as pd\n",
    "import matplotlib.pyplot as plt\n",
    "\n",
    "# MET values for common exercises\n",
    "MET_VALUES = {\n",
    "    \"running\": 9.8,\n",
    "    \"cycling\": 7.5,\n",
    "    \"walking\": 3.8,\n",
    "    \"swimming\": 8.0,\n",
    "    \"yoga\": 3.0\n",
    "}\n",
    "\n",
    "def calculate_calories(activity, duration, weight):\n",
    "    \"\"\"Calculate calories burned using MET formula.\"\"\"\n",
    "    if activity.lower() in MET_VALUES:\n",
    "        met = MET_VALUES[activity.lower()]\n",
    "        calories_burned = (met * weight * duration) / 60  # MET formula\n",
    "        return round(calories_burned, 2)\n",
    "    else:\n",
    "        return \"Activity not found\"\n"
   ]
  },
  {
   "cell_type": "code",
   "execution_count": 2,
   "metadata": {},
   "outputs": [
    {
     "data": {
      "text/html": [
       "<div>\n",
       "<style scoped>\n",
       "    .dataframe tbody tr th:only-of-type {\n",
       "        vertical-align: middle;\n",
       "    }\n",
       "\n",
       "    .dataframe tbody tr th {\n",
       "        vertical-align: top;\n",
       "    }\n",
       "\n",
       "    .dataframe thead th {\n",
       "        text-align: right;\n",
       "    }\n",
       "</style>\n",
       "<table border=\"1\" class=\"dataframe\">\n",
       "  <thead>\n",
       "    <tr style=\"text-align: right;\">\n",
       "      <th></th>\n",
       "      <th>activity</th>\n",
       "      <th>duration</th>\n",
       "      <th>weight</th>\n",
       "      <th>calories_burned</th>\n",
       "    </tr>\n",
       "  </thead>\n",
       "  <tbody>\n",
       "    <tr>\n",
       "      <th>0</th>\n",
       "      <td>running</td>\n",
       "      <td>30</td>\n",
       "      <td>70</td>\n",
       "      <td>343.00</td>\n",
       "    </tr>\n",
       "    <tr>\n",
       "      <th>1</th>\n",
       "      <td>cycling</td>\n",
       "      <td>45</td>\n",
       "      <td>70</td>\n",
       "      <td>393.75</td>\n",
       "    </tr>\n",
       "    <tr>\n",
       "      <th>2</th>\n",
       "      <td>swimming</td>\n",
       "      <td>60</td>\n",
       "      <td>70</td>\n",
       "      <td>560.00</td>\n",
       "    </tr>\n",
       "  </tbody>\n",
       "</table>\n",
       "</div>"
      ],
      "text/plain": [
       "   activity  duration  weight  calories_burned\n",
       "0   running        30      70           343.00\n",
       "1   cycling        45      70           393.75\n",
       "2  swimming        60      70           560.00"
      ]
     },
     "execution_count": 2,
     "metadata": {},
     "output_type": "execute_result"
    }
   ],
   "source": [
    "# Example Data Logging\n",
    "workouts = [\n",
    "    {\"activity\": \"running\", \"duration\": 30, \"weight\": 70},\n",
    "    {\"activity\": \"cycling\", \"duration\": 45, \"weight\": 70},\n",
    "    {\"activity\": \"swimming\", \"duration\": 60, \"weight\": 70},\n",
    "]\n",
    "\n",
    "# DataFrame for visualization\n",
    "df = pd.DataFrame(workouts)\n",
    "df[\"calories_burned\"] = df.apply(lambda row: calculate_calories(row[\"activity\"], row[\"duration\"], row[\"weight\"]), axis=1)\n",
    "\n",
    "# Display the DataFrame\n",
    "df"
   ]
  },
  {
   "cell_type": "code",
   "execution_count": 3,
   "metadata": {},
   "outputs": [
    {
     "data": {
      "image/png": "[encoded data removed]",
      "text/plain": [
       "<Figure size 800x500 with 1 Axes>"
      ]
     },
     "metadata": {},
     "output_type": "display_data"
    }
   ],
   "source": [
    "# Plot the data\n",
    "plt.figure(figsize=(8, 5))\n",
    "plt.bar(df[\"activity\"], df[\"calories_burned\"], color=[\"blue\", \"green\", \"red\"])\n",
    "plt.xlabel(\"Activity\")\n",
    "plt.ylabel(\"Calories Burned\")\n",
    "plt.title(\"Calories Burned per Activity\")\n",
    "plt.show()"
   ]
  },
  {
   "cell_type": "code",
   "execution_count": 4,
   "metadata": {},
   "outputs": [
    {
     "name": "stderr",
     "output_type": "stream",
     "text": [
      "[NbConvertApp] Converting notebook calories-burned.ipynb to script\n",
      "[NbConvertApp] Writing 1369 bytes to calories-burned.py\n"
     ]
    }
   ],
   "source": [
    "!jupyter nbconvert --to script calories-burned.ipynb\n"
   ]
  }
 ],
 "metadata": {
  "kernelspec": {
   "display_name": "Python 3",
   "language": "python",
   "name": "python3"
  },
  "language_info": {
   "codemirror_mode": {
    "name": "ipython",
    "version": 3
   },
   "file_extension": ".py",
   "mimetype": "text/x-python",
   "name": "python",
   "nbconvert_exporter": "python",
   "pygments_lexer": "ipython3",
   "version": "3.11.9"
  }
 },
 "nbformat": 4,
 "nbformat_minor": 4
}
